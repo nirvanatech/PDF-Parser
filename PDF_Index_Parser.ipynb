{
 "cells": [
  {
   "cell_type": "code",
   "execution_count": 10,
   "id": "5fb8c401",
   "metadata": {},
   "outputs": [],
   "source": [
    "import os\n",
    "import time\n",
    "import PyPDF2\n",
    "import openai\n",
    "from tqdm import tqdm"
   ]
  },
  {
   "cell_type": "code",
   "execution_count": 11,
   "id": "1c46fd95",
   "metadata": {},
   "outputs": [],
   "source": [
    "openai.api_key = os.getenv(\"OPENAI_API_KEY\")  # or set explicitly"
   ]
  },
  {
   "cell_type": "code",
   "execution_count": 12,
   "id": "63e51164",
   "metadata": {},
   "outputs": [],
   "source": [
    "# --- Edit these to your liking ---\n",
    "INPUT_PDF_PATH = \"./Inputs/PGR_Ohio_BNIC-134120828_trimmed.pdf\"\n",
    "MAX_PAGES = 3000                     # limit if needed\n",
    "MAX_TOKENS_PER_PAGE = 1200           # reasonable for GPT-3.5-turbo for <1pg text\n",
    "MODEL = \"gpt-3.5-turbo\"              # or gpt-4 if you have access\n",
    "OUTPUT_INDEX_PATH = \"filing_index.csv\"\n",
    "\n",
    "# --- Buckets to detect ---\n",
    "BUCKETS = [\n",
    "    \"intro information\", \"correspondence\", \"rule\", \"factor table\", \"actuarial support\"\n",
    "]\n",
    "\n",
    "# --- System message for GPT ---\n",
    "SYS_PROMPT = f\"\"\"\n",
    "You are an expert insurance regulatory analyst. \n",
    "Given a single page of an insurance rate or form filing, classify it strictly into one of the following categories: {BUCKETS}.\n",
    "Return just the most likely bucket as a lowercase label, e.g. 'factor table', 'intro information', or 'other' if it doesn't fit.\n",
    "\n",
    "If very unsure, return 'other'.\n",
    "\"\"\"\n"
   ]
  },
  {
   "cell_type": "code",
   "execution_count": 13,
   "id": "aa49aa75",
   "metadata": {},
   "outputs": [],
   "source": [
    "\n",
    "# --- Helper: PDF split & clean ---\n",
    "def extract_pdf_pages(pdf_path, max_pages=MAX_PAGES):\n",
    "    with open(pdf_path, \"rb\") as f:\n",
    "        reader = PyPDF2.PdfReader(f)\n",
    "        n = min(len(reader.pages), max_pages)\n",
    "        pages = []\n",
    "        for i in range(n):\n",
    "            text = reader.pages[i].extract_text()\n",
    "            pages.append(text if text else \"\")\n",
    "        return pages\n"
   ]
  },
  {
   "cell_type": "code",
   "execution_count": 14,
   "id": "ff980deb",
   "metadata": {},
   "outputs": [],
   "source": [
    "# --- Helper: classify with GPT ---\n",
    "def classify_page(text, model=MODEL, system_prompt=SYS_PROMPT, temperature=0):\n",
    "    prompt = f'''You will be given the contents of one page from a PDF insurance rate filing. Classify as described.\n",
    "\n",
    "Page content:\n",
    "\"\"\"\n",
    "{text[:4000]}\n",
    "\"\"\"'''\n",
    "    resp = openai.ChatCompletion.create(\n",
    "        model=model,\n",
    "        messages=[\n",
    "            {\"role\": \"system\", \"content\": system_prompt},\n",
    "            {\"role\": \"user\", \"content\": prompt}\n",
    "        ],\n",
    "        temperature=temperature,\n",
    "        max_tokens=16,\n",
    "    )\n",
    "    result = resp[\"choices\"][0][\"message\"][\"content\"].strip().lower()\n",
    "    return result\n"
   ]
  },
  {
   "cell_type": "code",
   "execution_count": 15,
   "id": "0e957580",
   "metadata": {},
   "outputs": [],
   "source": [
    "\n",
    "# === MAIN PIPELINE ===\n",
    "def index_filing(pdf_path):\n",
    "    pages = extract_pdf_pages(pdf_path)\n",
    "    classification = []\n",
    "    for i, page_text in tqdm(enumerate(pages), total=len(pages)):\n",
    "        try:\n",
    "            label = classify_page(page_text)\n",
    "        except Exception as e:\n",
    "            print(f\"Page {i+1}: error {e}\")\n",
    "            label = \"error\"\n",
    "            time.sleep(5)   # simple error backoff\n",
    "        classification.append({\"page_number\": i+1, \"bucket\": label, \"sample_text\": page_text[:80].replace('\\n',' ')})\n",
    "    return classification"
   ]
  },
  {
   "cell_type": "code",
   "execution_count": 16,
   "id": "687875e7",
   "metadata": {},
   "outputs": [
    {
     "ename": "KeyboardInterrupt",
     "evalue": "",
     "output_type": "error",
     "traceback": [
      "\u001b[31m---------------------------------------------------------------------------\u001b[39m",
      "\u001b[31mKeyboardInterrupt\u001b[39m                         Traceback (most recent call last)",
      "\u001b[36mCell\u001b[39m\u001b[36m \u001b[39m\u001b[32mIn[16]\u001b[39m\u001b[32m, line 13\u001b[39m\n\u001b[32m     10\u001b[39m     \u001b[38;5;28mprint\u001b[39m(\u001b[33mf\u001b[39m\u001b[33m\"\u001b[39m\u001b[33mIndexed and saved results to \u001b[39m\u001b[38;5;132;01m{\u001b[39;00mOUTPUT_INDEX_PATH\u001b[38;5;132;01m}\u001b[39;00m\u001b[33m\"\u001b[39m)\n\u001b[32m     12\u001b[39m \u001b[38;5;28;01mif\u001b[39;00m \u001b[34m__name__\u001b[39m == \u001b[33m\"\u001b[39m\u001b[33m__main__\u001b[39m\u001b[33m\"\u001b[39m:\n\u001b[32m---> \u001b[39m\u001b[32m13\u001b[39m     \u001b[43mmain\u001b[49m\u001b[43m(\u001b[49m\u001b[43m)\u001b[49m\n",
      "\u001b[36mCell\u001b[39m\u001b[36m \u001b[39m\u001b[32mIn[16]\u001b[39m\u001b[32m, line 3\u001b[39m, in \u001b[36mmain\u001b[39m\u001b[34m()\u001b[39m\n\u001b[32m      2\u001b[39m \u001b[38;5;28;01mdef\u001b[39;00m\u001b[38;5;250m \u001b[39m\u001b[34mmain\u001b[39m():\n\u001b[32m----> \u001b[39m\u001b[32m3\u001b[39m     filing_index = \u001b[43mindex_filing\u001b[49m\u001b[43m(\u001b[49m\u001b[43mINPUT_PDF_PATH\u001b[49m\u001b[43m)\u001b[49m\n\u001b[32m      4\u001b[39m     \u001b[38;5;28;01mimport\u001b[39;00m\u001b[38;5;250m \u001b[39m\u001b[34;01mcsv\u001b[39;00m\n\u001b[32m      5\u001b[39m     \u001b[38;5;28;01mwith\u001b[39;00m \u001b[38;5;28mopen\u001b[39m(OUTPUT_INDEX_PATH, \u001b[33m\"\u001b[39m\u001b[33mw\u001b[39m\u001b[33m\"\u001b[39m, newline=\u001b[33m\"\u001b[39m\u001b[33m\"\u001b[39m, encoding=\u001b[33m\"\u001b[39m\u001b[33mutf-8\u001b[39m\u001b[33m\"\u001b[39m) \u001b[38;5;28;01mas\u001b[39;00m f:\n",
      "\u001b[36mCell\u001b[39m\u001b[36m \u001b[39m\u001b[32mIn[15]\u001b[39m\u001b[32m, line 3\u001b[39m, in \u001b[36mindex_filing\u001b[39m\u001b[34m(pdf_path)\u001b[39m\n\u001b[32m      2\u001b[39m \u001b[38;5;28;01mdef\u001b[39;00m\u001b[38;5;250m \u001b[39m\u001b[34mindex_filing\u001b[39m(pdf_path):\n\u001b[32m----> \u001b[39m\u001b[32m3\u001b[39m     pages = \u001b[43mextract_pdf_pages\u001b[49m\u001b[43m(\u001b[49m\u001b[43mpdf_path\u001b[49m\u001b[43m)\u001b[49m\n\u001b[32m      4\u001b[39m     classification = []\n\u001b[32m      5\u001b[39m     \u001b[38;5;28;01mfor\u001b[39;00m i, page_text \u001b[38;5;129;01min\u001b[39;00m tqdm(\u001b[38;5;28menumerate\u001b[39m(pages), total=\u001b[38;5;28mlen\u001b[39m(pages)):\n",
      "\u001b[36mCell\u001b[39m\u001b[36m \u001b[39m\u001b[32mIn[13]\u001b[39m\u001b[32m, line 8\u001b[39m, in \u001b[36mextract_pdf_pages\u001b[39m\u001b[34m(pdf_path, max_pages)\u001b[39m\n\u001b[32m      6\u001b[39m pages = []\n\u001b[32m      7\u001b[39m \u001b[38;5;28;01mfor\u001b[39;00m i \u001b[38;5;129;01min\u001b[39;00m \u001b[38;5;28mrange\u001b[39m(n):\n\u001b[32m----> \u001b[39m\u001b[32m8\u001b[39m     text = \u001b[43mreader\u001b[49m\u001b[43m.\u001b[49m\u001b[43mpages\u001b[49m\u001b[43m[\u001b[49m\u001b[43mi\u001b[49m\u001b[43m]\u001b[49m\u001b[43m.\u001b[49m\u001b[43mextract_text\u001b[49m\u001b[43m(\u001b[49m\u001b[43m)\u001b[49m\n\u001b[32m      9\u001b[39m     pages.append(text \u001b[38;5;28;01mif\u001b[39;00m text \u001b[38;5;28;01melse\u001b[39;00m \u001b[33m\"\u001b[39m\u001b[33m\"\u001b[39m)\n\u001b[32m     10\u001b[39m \u001b[38;5;28;01mreturn\u001b[39;00m pages\n",
      "\u001b[36mFile \u001b[39m\u001b[32m/Library/Frameworks/Python.framework/Versions/3.13/lib/python3.13/site-packages/PyPDF2/_page.py:1851\u001b[39m, in \u001b[36mPageObject.extract_text\u001b[39m\u001b[34m(self, Tj_sep, TJ_sep, orientations, space_width, visitor_operand_before, visitor_operand_after, visitor_text, *args)\u001b[39m\n\u001b[32m   1848\u001b[39m \u001b[38;5;28;01mif\u001b[39;00m \u001b[38;5;28misinstance\u001b[39m(orientations, \u001b[38;5;28mint\u001b[39m):\n\u001b[32m   1849\u001b[39m     orientations = (orientations,)\n\u001b[32m-> \u001b[39m\u001b[32m1851\u001b[39m \u001b[38;5;28;01mreturn\u001b[39;00m \u001b[38;5;28;43mself\u001b[39;49m\u001b[43m.\u001b[49m\u001b[43m_extract_text\u001b[49m\u001b[43m(\u001b[49m\n\u001b[32m   1852\u001b[39m \u001b[43m    \u001b[49m\u001b[38;5;28;43mself\u001b[39;49m\u001b[43m,\u001b[49m\n\u001b[32m   1853\u001b[39m \u001b[43m    \u001b[49m\u001b[38;5;28;43mself\u001b[39;49m\u001b[43m.\u001b[49m\u001b[43mpdf\u001b[49m\u001b[43m,\u001b[49m\n\u001b[32m   1854\u001b[39m \u001b[43m    \u001b[49m\u001b[43morientations\u001b[49m\u001b[43m,\u001b[49m\n\u001b[32m   1855\u001b[39m \u001b[43m    \u001b[49m\u001b[43mspace_width\u001b[49m\u001b[43m,\u001b[49m\n\u001b[32m   1856\u001b[39m \u001b[43m    \u001b[49m\u001b[43mPG\u001b[49m\u001b[43m.\u001b[49m\u001b[43mCONTENTS\u001b[49m\u001b[43m,\u001b[49m\n\u001b[32m   1857\u001b[39m \u001b[43m    \u001b[49m\u001b[43mvisitor_operand_before\u001b[49m\u001b[43m,\u001b[49m\n\u001b[32m   1858\u001b[39m \u001b[43m    \u001b[49m\u001b[43mvisitor_operand_after\u001b[49m\u001b[43m,\u001b[49m\n\u001b[32m   1859\u001b[39m \u001b[43m    \u001b[49m\u001b[43mvisitor_text\u001b[49m\u001b[43m,\u001b[49m\n\u001b[32m   1860\u001b[39m \u001b[43m\u001b[49m\u001b[43m)\u001b[49m\n",
      "\u001b[36mFile \u001b[39m\u001b[32m/Library/Frameworks/Python.framework/Versions/3.13/lib/python3.13/site-packages/PyPDF2/_page.py:1737\u001b[39m, in \u001b[36mPageObject._extract_text\u001b[39m\u001b[34m(self, obj, pdf, orientations, space_width, content_key, visitor_operand_before, visitor_operand_after, visitor_text)\u001b[39m\n\u001b[32m   1734\u001b[39m xobj = resources_dict[\u001b[33m\"\u001b[39m\u001b[33m/XObject\u001b[39m\u001b[33m\"\u001b[39m]\n\u001b[32m   1735\u001b[39m \u001b[38;5;28;01mif\u001b[39;00m xobj[operands[\u001b[32m0\u001b[39m]][\u001b[33m\"\u001b[39m\u001b[33m/Subtype\u001b[39m\u001b[33m\"\u001b[39m] != \u001b[33m\"\u001b[39m\u001b[33m/Image\u001b[39m\u001b[33m\"\u001b[39m:  \u001b[38;5;66;03m# type: ignore\u001b[39;00m\n\u001b[32m   1736\u001b[39m     \u001b[38;5;66;03m# output += text\u001b[39;00m\n\u001b[32m-> \u001b[39m\u001b[32m1737\u001b[39m     text = \u001b[38;5;28;43mself\u001b[39;49m\u001b[43m.\u001b[49m\u001b[43mextract_xform_text\u001b[49m\u001b[43m(\u001b[49m\n\u001b[32m   1738\u001b[39m \u001b[43m        \u001b[49m\u001b[43mxobj\u001b[49m\u001b[43m[\u001b[49m\u001b[43moperands\u001b[49m\u001b[43m[\u001b[49m\u001b[32;43m0\u001b[39;49m\u001b[43m]\u001b[49m\u001b[43m]\u001b[49m\u001b[43m,\u001b[49m\u001b[43m  \u001b[49m\u001b[38;5;66;43;03m# type: ignore\u001b[39;49;00m\n\u001b[32m   1739\u001b[39m \u001b[43m        \u001b[49m\u001b[43morientations\u001b[49m\u001b[43m,\u001b[49m\n\u001b[32m   1740\u001b[39m \u001b[43m        \u001b[49m\u001b[43mspace_width\u001b[49m\u001b[43m,\u001b[49m\n\u001b[32m   1741\u001b[39m \u001b[43m        \u001b[49m\u001b[43mvisitor_operand_before\u001b[49m\u001b[43m,\u001b[49m\n\u001b[32m   1742\u001b[39m \u001b[43m        \u001b[49m\u001b[43mvisitor_operand_after\u001b[49m\u001b[43m,\u001b[49m\n\u001b[32m   1743\u001b[39m \u001b[43m        \u001b[49m\u001b[43mvisitor_text\u001b[49m\u001b[43m,\u001b[49m\n\u001b[32m   1744\u001b[39m \u001b[43m    \u001b[49m\u001b[43m)\u001b[49m\n\u001b[32m   1745\u001b[39m     output += text\n\u001b[32m   1746\u001b[39m     \u001b[38;5;28;01mif\u001b[39;00m visitor_text \u001b[38;5;129;01mis\u001b[39;00m \u001b[38;5;129;01mnot\u001b[39;00m \u001b[38;5;28;01mNone\u001b[39;00m:\n",
      "\u001b[36mFile \u001b[39m\u001b[32m/Library/Frameworks/Python.framework/Versions/3.13/lib/python3.13/site-packages/PyPDF2/_page.py:1880\u001b[39m, in \u001b[36mPageObject.extract_xform_text\u001b[39m\u001b[34m(self, xform, orientations, space_width, visitor_operand_before, visitor_operand_after, visitor_text)\u001b[39m\n\u001b[32m   1862\u001b[39m \u001b[38;5;28;01mdef\u001b[39;00m\u001b[38;5;250m \u001b[39m\u001b[34mextract_xform_text\u001b[39m(\n\u001b[32m   1863\u001b[39m     \u001b[38;5;28mself\u001b[39m,\n\u001b[32m   1864\u001b[39m     xform: EncodedStreamObject,\n\u001b[32m   (...)\u001b[39m\u001b[32m   1869\u001b[39m     visitor_text: Optional[Callable[[Any, Any, Any, Any, Any], \u001b[38;5;28;01mNone\u001b[39;00m]] = \u001b[38;5;28;01mNone\u001b[39;00m,\n\u001b[32m   1870\u001b[39m ) -> \u001b[38;5;28mstr\u001b[39m:\n\u001b[32m   1871\u001b[39m \u001b[38;5;250m    \u001b[39m\u001b[33;03m\"\"\"\u001b[39;00m\n\u001b[32m   1872\u001b[39m \u001b[33;03m    Extract text from an XObject.\u001b[39;00m\n\u001b[32m   1873\u001b[39m \n\u001b[32m   (...)\u001b[39m\u001b[32m   1878\u001b[39m \u001b[33;03m        The extracted text\u001b[39;00m\n\u001b[32m   1879\u001b[39m \u001b[33;03m    \"\"\"\u001b[39;00m\n\u001b[32m-> \u001b[39m\u001b[32m1880\u001b[39m     \u001b[38;5;28;01mreturn\u001b[39;00m \u001b[38;5;28;43mself\u001b[39;49m\u001b[43m.\u001b[49m\u001b[43m_extract_text\u001b[49m\u001b[43m(\u001b[49m\n\u001b[32m   1881\u001b[39m \u001b[43m        \u001b[49m\u001b[43mxform\u001b[49m\u001b[43m,\u001b[49m\n\u001b[32m   1882\u001b[39m \u001b[43m        \u001b[49m\u001b[38;5;28;43mself\u001b[39;49m\u001b[43m.\u001b[49m\u001b[43mpdf\u001b[49m\u001b[43m,\u001b[49m\n\u001b[32m   1883\u001b[39m \u001b[43m        \u001b[49m\u001b[43morientations\u001b[49m\u001b[43m,\u001b[49m\n\u001b[32m   1884\u001b[39m \u001b[43m        \u001b[49m\u001b[43mspace_width\u001b[49m\u001b[43m,\u001b[49m\n\u001b[32m   1885\u001b[39m \u001b[43m        \u001b[49m\u001b[38;5;28;43;01mNone\u001b[39;49;00m\u001b[43m,\u001b[49m\n\u001b[32m   1886\u001b[39m \u001b[43m        \u001b[49m\u001b[43mvisitor_operand_before\u001b[49m\u001b[43m,\u001b[49m\n\u001b[32m   1887\u001b[39m \u001b[43m        \u001b[49m\u001b[43mvisitor_operand_after\u001b[49m\u001b[43m,\u001b[49m\n\u001b[32m   1888\u001b[39m \u001b[43m        \u001b[49m\u001b[43mvisitor_text\u001b[49m\u001b[43m,\u001b[49m\n\u001b[32m   1889\u001b[39m \u001b[43m    \u001b[49m\u001b[43m)\u001b[49m\n",
      "\u001b[36mFile \u001b[39m\u001b[32m/Library/Frameworks/Python.framework/Versions/3.13/lib/python3.13/site-packages/PyPDF2/_page.py:1737\u001b[39m, in \u001b[36mPageObject._extract_text\u001b[39m\u001b[34m(self, obj, pdf, orientations, space_width, content_key, visitor_operand_before, visitor_operand_after, visitor_text)\u001b[39m\n\u001b[32m   1734\u001b[39m xobj = resources_dict[\u001b[33m\"\u001b[39m\u001b[33m/XObject\u001b[39m\u001b[33m\"\u001b[39m]\n\u001b[32m   1735\u001b[39m \u001b[38;5;28;01mif\u001b[39;00m xobj[operands[\u001b[32m0\u001b[39m]][\u001b[33m\"\u001b[39m\u001b[33m/Subtype\u001b[39m\u001b[33m\"\u001b[39m] != \u001b[33m\"\u001b[39m\u001b[33m/Image\u001b[39m\u001b[33m\"\u001b[39m:  \u001b[38;5;66;03m# type: ignore\u001b[39;00m\n\u001b[32m   1736\u001b[39m     \u001b[38;5;66;03m# output += text\u001b[39;00m\n\u001b[32m-> \u001b[39m\u001b[32m1737\u001b[39m     text = \u001b[38;5;28;43mself\u001b[39;49m\u001b[43m.\u001b[49m\u001b[43mextract_xform_text\u001b[49m\u001b[43m(\u001b[49m\n\u001b[32m   1738\u001b[39m \u001b[43m        \u001b[49m\u001b[43mxobj\u001b[49m\u001b[43m[\u001b[49m\u001b[43moperands\u001b[49m\u001b[43m[\u001b[49m\u001b[32;43m0\u001b[39;49m\u001b[43m]\u001b[49m\u001b[43m]\u001b[49m\u001b[43m,\u001b[49m\u001b[43m  \u001b[49m\u001b[38;5;66;43;03m# type: ignore\u001b[39;49;00m\n\u001b[32m   1739\u001b[39m \u001b[43m        \u001b[49m\u001b[43morientations\u001b[49m\u001b[43m,\u001b[49m\n\u001b[32m   1740\u001b[39m \u001b[43m        \u001b[49m\u001b[43mspace_width\u001b[49m\u001b[43m,\u001b[49m\n\u001b[32m   1741\u001b[39m \u001b[43m        \u001b[49m\u001b[43mvisitor_operand_before\u001b[49m\u001b[43m,\u001b[49m\n\u001b[32m   1742\u001b[39m \u001b[43m        \u001b[49m\u001b[43mvisitor_operand_after\u001b[49m\u001b[43m,\u001b[49m\n\u001b[32m   1743\u001b[39m \u001b[43m        \u001b[49m\u001b[43mvisitor_text\u001b[49m\u001b[43m,\u001b[49m\n\u001b[32m   1744\u001b[39m \u001b[43m    \u001b[49m\u001b[43m)\u001b[49m\n\u001b[32m   1745\u001b[39m     output += text\n\u001b[32m   1746\u001b[39m     \u001b[38;5;28;01mif\u001b[39;00m visitor_text \u001b[38;5;129;01mis\u001b[39;00m \u001b[38;5;129;01mnot\u001b[39;00m \u001b[38;5;28;01mNone\u001b[39;00m:\n",
      "\u001b[36mFile \u001b[39m\u001b[32m/Library/Frameworks/Python.framework/Versions/3.13/lib/python3.13/site-packages/PyPDF2/_page.py:1880\u001b[39m, in \u001b[36mPageObject.extract_xform_text\u001b[39m\u001b[34m(self, xform, orientations, space_width, visitor_operand_before, visitor_operand_after, visitor_text)\u001b[39m\n\u001b[32m   1862\u001b[39m \u001b[38;5;28;01mdef\u001b[39;00m\u001b[38;5;250m \u001b[39m\u001b[34mextract_xform_text\u001b[39m(\n\u001b[32m   1863\u001b[39m     \u001b[38;5;28mself\u001b[39m,\n\u001b[32m   1864\u001b[39m     xform: EncodedStreamObject,\n\u001b[32m   (...)\u001b[39m\u001b[32m   1869\u001b[39m     visitor_text: Optional[Callable[[Any, Any, Any, Any, Any], \u001b[38;5;28;01mNone\u001b[39;00m]] = \u001b[38;5;28;01mNone\u001b[39;00m,\n\u001b[32m   1870\u001b[39m ) -> \u001b[38;5;28mstr\u001b[39m:\n\u001b[32m   1871\u001b[39m \u001b[38;5;250m    \u001b[39m\u001b[33;03m\"\"\"\u001b[39;00m\n\u001b[32m   1872\u001b[39m \u001b[33;03m    Extract text from an XObject.\u001b[39;00m\n\u001b[32m   1873\u001b[39m \n\u001b[32m   (...)\u001b[39m\u001b[32m   1878\u001b[39m \u001b[33;03m        The extracted text\u001b[39;00m\n\u001b[32m   1879\u001b[39m \u001b[33;03m    \"\"\"\u001b[39;00m\n\u001b[32m-> \u001b[39m\u001b[32m1880\u001b[39m     \u001b[38;5;28;01mreturn\u001b[39;00m \u001b[38;5;28;43mself\u001b[39;49m\u001b[43m.\u001b[49m\u001b[43m_extract_text\u001b[49m\u001b[43m(\u001b[49m\n\u001b[32m   1881\u001b[39m \u001b[43m        \u001b[49m\u001b[43mxform\u001b[49m\u001b[43m,\u001b[49m\n\u001b[32m   1882\u001b[39m \u001b[43m        \u001b[49m\u001b[38;5;28;43mself\u001b[39;49m\u001b[43m.\u001b[49m\u001b[43mpdf\u001b[49m\u001b[43m,\u001b[49m\n\u001b[32m   1883\u001b[39m \u001b[43m        \u001b[49m\u001b[43morientations\u001b[49m\u001b[43m,\u001b[49m\n\u001b[32m   1884\u001b[39m \u001b[43m        \u001b[49m\u001b[43mspace_width\u001b[49m\u001b[43m,\u001b[49m\n\u001b[32m   1885\u001b[39m \u001b[43m        \u001b[49m\u001b[38;5;28;43;01mNone\u001b[39;49;00m\u001b[43m,\u001b[49m\n\u001b[32m   1886\u001b[39m \u001b[43m        \u001b[49m\u001b[43mvisitor_operand_before\u001b[49m\u001b[43m,\u001b[49m\n\u001b[32m   1887\u001b[39m \u001b[43m        \u001b[49m\u001b[43mvisitor_operand_after\u001b[49m\u001b[43m,\u001b[49m\n\u001b[32m   1888\u001b[39m \u001b[43m        \u001b[49m\u001b[43mvisitor_text\u001b[49m\u001b[43m,\u001b[49m\n\u001b[32m   1889\u001b[39m \u001b[43m    \u001b[49m\u001b[43m)\u001b[49m\n",
      "    \u001b[31m[... skipping similar frames: PageObject._extract_text at line 1737 (1 times), PageObject.extract_xform_text at line 1880 (1 times)]\u001b[39m\n",
      "\u001b[36mFile \u001b[39m\u001b[32m/Library/Frameworks/Python.framework/Versions/3.13/lib/python3.13/site-packages/PyPDF2/_page.py:1737\u001b[39m, in \u001b[36mPageObject._extract_text\u001b[39m\u001b[34m(self, obj, pdf, orientations, space_width, content_key, visitor_operand_before, visitor_operand_after, visitor_text)\u001b[39m\n\u001b[32m   1734\u001b[39m xobj = resources_dict[\u001b[33m\"\u001b[39m\u001b[33m/XObject\u001b[39m\u001b[33m\"\u001b[39m]\n\u001b[32m   1735\u001b[39m \u001b[38;5;28;01mif\u001b[39;00m xobj[operands[\u001b[32m0\u001b[39m]][\u001b[33m\"\u001b[39m\u001b[33m/Subtype\u001b[39m\u001b[33m\"\u001b[39m] != \u001b[33m\"\u001b[39m\u001b[33m/Image\u001b[39m\u001b[33m\"\u001b[39m:  \u001b[38;5;66;03m# type: ignore\u001b[39;00m\n\u001b[32m   1736\u001b[39m     \u001b[38;5;66;03m# output += text\u001b[39;00m\n\u001b[32m-> \u001b[39m\u001b[32m1737\u001b[39m     text = \u001b[38;5;28;43mself\u001b[39;49m\u001b[43m.\u001b[49m\u001b[43mextract_xform_text\u001b[49m\u001b[43m(\u001b[49m\n\u001b[32m   1738\u001b[39m \u001b[43m        \u001b[49m\u001b[43mxobj\u001b[49m\u001b[43m[\u001b[49m\u001b[43moperands\u001b[49m\u001b[43m[\u001b[49m\u001b[32;43m0\u001b[39;49m\u001b[43m]\u001b[49m\u001b[43m]\u001b[49m\u001b[43m,\u001b[49m\u001b[43m  \u001b[49m\u001b[38;5;66;43;03m# type: ignore\u001b[39;49;00m\n\u001b[32m   1739\u001b[39m \u001b[43m        \u001b[49m\u001b[43morientations\u001b[49m\u001b[43m,\u001b[49m\n\u001b[32m   1740\u001b[39m \u001b[43m        \u001b[49m\u001b[43mspace_width\u001b[49m\u001b[43m,\u001b[49m\n\u001b[32m   1741\u001b[39m \u001b[43m        \u001b[49m\u001b[43mvisitor_operand_before\u001b[49m\u001b[43m,\u001b[49m\n\u001b[32m   1742\u001b[39m \u001b[43m        \u001b[49m\u001b[43mvisitor_operand_after\u001b[49m\u001b[43m,\u001b[49m\n\u001b[32m   1743\u001b[39m \u001b[43m        \u001b[49m\u001b[43mvisitor_text\u001b[49m\u001b[43m,\u001b[49m\n\u001b[32m   1744\u001b[39m \u001b[43m    \u001b[49m\u001b[43m)\u001b[49m\n\u001b[32m   1745\u001b[39m     output += text\n\u001b[32m   1746\u001b[39m     \u001b[38;5;28;01mif\u001b[39;00m visitor_text \u001b[38;5;129;01mis\u001b[39;00m \u001b[38;5;129;01mnot\u001b[39;00m \u001b[38;5;28;01mNone\u001b[39;00m:\n",
      "\u001b[36mFile \u001b[39m\u001b[32m/Library/Frameworks/Python.framework/Versions/3.13/lib/python3.13/site-packages/PyPDF2/_page.py:1880\u001b[39m, in \u001b[36mPageObject.extract_xform_text\u001b[39m\u001b[34m(self, xform, orientations, space_width, visitor_operand_before, visitor_operand_after, visitor_text)\u001b[39m\n\u001b[32m   1862\u001b[39m \u001b[38;5;28;01mdef\u001b[39;00m\u001b[38;5;250m \u001b[39m\u001b[34mextract_xform_text\u001b[39m(\n\u001b[32m   1863\u001b[39m     \u001b[38;5;28mself\u001b[39m,\n\u001b[32m   1864\u001b[39m     xform: EncodedStreamObject,\n\u001b[32m   (...)\u001b[39m\u001b[32m   1869\u001b[39m     visitor_text: Optional[Callable[[Any, Any, Any, Any, Any], \u001b[38;5;28;01mNone\u001b[39;00m]] = \u001b[38;5;28;01mNone\u001b[39;00m,\n\u001b[32m   1870\u001b[39m ) -> \u001b[38;5;28mstr\u001b[39m:\n\u001b[32m   1871\u001b[39m \u001b[38;5;250m    \u001b[39m\u001b[33;03m\"\"\"\u001b[39;00m\n\u001b[32m   1872\u001b[39m \u001b[33;03m    Extract text from an XObject.\u001b[39;00m\n\u001b[32m   1873\u001b[39m \n\u001b[32m   (...)\u001b[39m\u001b[32m   1878\u001b[39m \u001b[33;03m        The extracted text\u001b[39;00m\n\u001b[32m   1879\u001b[39m \u001b[33;03m    \"\"\"\u001b[39;00m\n\u001b[32m-> \u001b[39m\u001b[32m1880\u001b[39m     \u001b[38;5;28;01mreturn\u001b[39;00m \u001b[38;5;28;43mself\u001b[39;49m\u001b[43m.\u001b[49m\u001b[43m_extract_text\u001b[49m\u001b[43m(\u001b[49m\n\u001b[32m   1881\u001b[39m \u001b[43m        \u001b[49m\u001b[43mxform\u001b[49m\u001b[43m,\u001b[49m\n\u001b[32m   1882\u001b[39m \u001b[43m        \u001b[49m\u001b[38;5;28;43mself\u001b[39;49m\u001b[43m.\u001b[49m\u001b[43mpdf\u001b[49m\u001b[43m,\u001b[49m\n\u001b[32m   1883\u001b[39m \u001b[43m        \u001b[49m\u001b[43morientations\u001b[49m\u001b[43m,\u001b[49m\n\u001b[32m   1884\u001b[39m \u001b[43m        \u001b[49m\u001b[43mspace_width\u001b[49m\u001b[43m,\u001b[49m\n\u001b[32m   1885\u001b[39m \u001b[43m        \u001b[49m\u001b[38;5;28;43;01mNone\u001b[39;49;00m\u001b[43m,\u001b[49m\n\u001b[32m   1886\u001b[39m \u001b[43m        \u001b[49m\u001b[43mvisitor_operand_before\u001b[49m\u001b[43m,\u001b[49m\n\u001b[32m   1887\u001b[39m \u001b[43m        \u001b[49m\u001b[43mvisitor_operand_after\u001b[49m\u001b[43m,\u001b[49m\n\u001b[32m   1888\u001b[39m \u001b[43m        \u001b[49m\u001b[43mvisitor_text\u001b[49m\u001b[43m,\u001b[49m\n\u001b[32m   1889\u001b[39m \u001b[43m    \u001b[49m\u001b[43m)\u001b[49m\n",
      "\u001b[36mFile \u001b[39m\u001b[32m/Library/Frameworks/Python.framework/Versions/3.13/lib/python3.13/site-packages/PyPDF2/_page.py:1356\u001b[39m, in \u001b[36mPageObject._extract_text\u001b[39m\u001b[34m(self, obj, pdf, orientations, space_width, content_key, visitor_operand_before, visitor_operand_after, visitor_text)\u001b[39m\n\u001b[32m   1352\u001b[39m     content = (\n\u001b[32m   1353\u001b[39m         obj[content_key].get_object() \u001b[38;5;28;01mif\u001b[39;00m \u001b[38;5;28misinstance\u001b[39m(content_key, \u001b[38;5;28mstr\u001b[39m) \u001b[38;5;28;01melse\u001b[39;00m obj\n\u001b[32m   1354\u001b[39m     )\n\u001b[32m   1355\u001b[39m     \u001b[38;5;28;01mif\u001b[39;00m \u001b[38;5;129;01mnot\u001b[39;00m \u001b[38;5;28misinstance\u001b[39m(content, ContentStream):\n\u001b[32m-> \u001b[39m\u001b[32m1356\u001b[39m         content = \u001b[43mContentStream\u001b[49m\u001b[43m(\u001b[49m\u001b[43mcontent\u001b[49m\u001b[43m,\u001b[49m\u001b[43m \u001b[49m\u001b[43mpdf\u001b[49m\u001b[43m,\u001b[49m\u001b[43m \u001b[49m\u001b[33;43m\"\u001b[39;49m\u001b[33;43mbytes\u001b[39;49m\u001b[33;43m\"\u001b[39;49m\u001b[43m)\u001b[49m\n\u001b[32m   1357\u001b[39m \u001b[38;5;28;01mexcept\u001b[39;00m \u001b[38;5;167;01mKeyError\u001b[39;00m:  \u001b[38;5;66;03m# it means no content can be extracted(certainly empty page)\u001b[39;00m\n\u001b[32m   1358\u001b[39m     \u001b[38;5;28;01mreturn\u001b[39;00m \u001b[33m\"\u001b[39m\u001b[33m\"\u001b[39m\n",
      "\u001b[36mFile \u001b[39m\u001b[32m/Library/Frameworks/Python.framework/Versions/3.13/lib/python3.13/site-packages/PyPDF2/generic/_data_structures.py:877\u001b[39m, in \u001b[36mContentStream.__init__\u001b[39m\u001b[34m(self, stream, pdf, forced_encoding)\u001b[39m\n\u001b[32m    875\u001b[39m     stream_bytes = BytesIO(stream_data_bytes)\n\u001b[32m    876\u001b[39m \u001b[38;5;28mself\u001b[39m.forced_encoding = forced_encoding\n\u001b[32m--> \u001b[39m\u001b[32m877\u001b[39m \u001b[38;5;28;43mself\u001b[39;49m\u001b[43m.\u001b[49m\u001b[43m__parse_content_stream\u001b[49m\u001b[43m(\u001b[49m\u001b[43mstream_bytes\u001b[49m\u001b[43m)\u001b[49m\n",
      "\u001b[36mFile \u001b[39m\u001b[32m/Library/Frameworks/Python.framework/Versions/3.13/lib/python3.13/site-packages/PyPDF2/generic/_data_structures.py:940\u001b[39m, in \u001b[36mContentStream.__parse_content_stream\u001b[39m\u001b[34m(self, stream)\u001b[39m\n\u001b[32m    933\u001b[39m         operands = []\n\u001b[32m    934\u001b[39m \u001b[38;5;28;01melif\u001b[39;00m peek == \u001b[33mb\u001b[39m\u001b[33m\"\u001b[39m\u001b[33m%\u001b[39m\u001b[33m\"\u001b[39m:\n\u001b[32m    935\u001b[39m     \u001b[38;5;66;03m# If we encounter a comment in the content stream, we have to\u001b[39;00m\n\u001b[32m    936\u001b[39m     \u001b[38;5;66;03m# handle it here.  Typically, read_object will handle\u001b[39;00m\n\u001b[32m    937\u001b[39m     \u001b[38;5;66;03m# encountering a comment -- but read_object assumes that\u001b[39;00m\n\u001b[32m    938\u001b[39m     \u001b[38;5;66;03m# following the comment must be the object we're trying to\u001b[39;00m\n\u001b[32m    939\u001b[39m     \u001b[38;5;66;03m# read.  In this case, it could be an operator instead.\u001b[39;00m\n\u001b[32m--> \u001b[39m\u001b[32m940\u001b[39m     \u001b[38;5;28;01mwhile\u001b[39;00m peek \u001b[38;5;129;01mnot\u001b[39;00m \u001b[38;5;129;01min\u001b[39;00m (\u001b[33mb\u001b[39m\u001b[33m\"\u001b[39m\u001b[38;5;130;01m\\r\u001b[39;00m\u001b[33m\"\u001b[39m, \u001b[33mb\u001b[39m\u001b[33m\"\u001b[39m\u001b[38;5;130;01m\\n\u001b[39;00m\u001b[33m\"\u001b[39m):\n\u001b[32m    941\u001b[39m         peek = stream.read(\u001b[32m1\u001b[39m)\n\u001b[32m    942\u001b[39m \u001b[38;5;28;01melse\u001b[39;00m:\n",
      "\u001b[31mKeyboardInterrupt\u001b[39m: "
     ]
    }
   ],
   "source": [
    "# === USAGE ===\n",
    "def main():\n",
    "    filing_index = index_filing(INPUT_PDF_PATH)\n",
    "    import csv\n",
    "    with open(OUTPUT_INDEX_PATH, \"w\", newline=\"\", encoding=\"utf-8\") as f:\n",
    "        writer = csv.DictWriter(f, fieldnames=[\"page_number\", \"bucket\", \"sample_text\"])\n",
    "        writer.writeheader()\n",
    "        for row in filing_index:\n",
    "            writer.writerow(row)\n",
    "    print(f\"Indexed and saved results to {OUTPUT_INDEX_PATH}\")\n",
    "\n",
    "if __name__ == \"__main__\":\n",
    "    main()"
   ]
  },
  {
   "cell_type": "code",
   "execution_count": null,
   "id": "39dbda55",
   "metadata": {},
   "outputs": [],
   "source": []
  }
 ],
 "metadata": {
  "kernelspec": {
   "display_name": "Python 3",
   "language": "python",
   "name": "python3"
  },
  "language_info": {
   "codemirror_mode": {
    "name": "ipython",
    "version": 3
   },
   "file_extension": ".py",
   "mimetype": "text/x-python",
   "name": "python",
   "nbconvert_exporter": "python",
   "pygments_lexer": "ipython3",
   "version": "3.13.3"
  }
 },
 "nbformat": 4,
 "nbformat_minor": 5
}
